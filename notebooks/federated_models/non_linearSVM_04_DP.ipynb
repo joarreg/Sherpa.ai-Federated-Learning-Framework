{
 "cells": [
  {
   "cell_type": "markdown",
   "metadata": {},
   "source": [
    "# Non-linear SVM: idea for Federated Setting\n",
    "\n",
    "In the present notebook, the idea for a Federated non-linear support vector machine (SVM) classification is presented. \n",
    "The model is encapsulated in the Sherpa.ai Federated Learning Framework on for a synthetic database.\n",
    "Moreover, differential privacy is applied and its impact on the global model is assessed. \n",
    "\n",
    "We start by creating a synthetic database: "
   ]
  },
  {
   "cell_type": "code",
   "execution_count": 1,
   "metadata": {},
   "outputs": [],
   "source": [
    "import shfl\n",
    "from shfl.data_base.data_base import LabeledDatabase\n",
    "from sklearn.datasets import make_classification\n",
    "import numpy as np\n",
    "\n",
    "# Create database:\n",
    "n_features = 2\n",
    "n_classes = 3\n",
    "data, labels = make_classification(\n",
    "    n_samples=400, n_features=n_features, n_informative=2, \n",
    "    n_redundant=0, n_repeated=0, n_classes=n_classes, \n",
    "    n_clusters_per_class=1, weights=None, flip_y=0.1, class_sep=0.1)\n",
    "database = LabeledDatabase(data, labels)\n",
    "\n",
    "train_data, train_labels, test_data, test_labels = database.load_data()\n",
    "\n",
    "# Specify model params:\n",
    "# if using NuSVC:\n",
    "#nu = 0.5 \n",
    "#kwargs = {'nu':nu}\n",
    "# if using SVC:\n",
    "C = 1\n",
    "kwargs = {'C':C}"
   ]
  },
  {
   "cell_type": "code",
   "execution_count": 2,
   "metadata": {},
   "outputs": [
    {
     "name": "stdout",
     "output_type": "stream",
     "text": [
      "Shape of train and test data: (320, 2)(80, 2)\n",
      "Shape of train and test labels: (320,)(80,)\n",
      "[-0.32156598 -0.55683207]\n"
     ]
    }
   ],
   "source": [
    "print(\"Shape of train and test data: \" + str(train_data.shape) + str(test_data.shape))\n",
    "print(\"Shape of train and test labels: \" + str(train_labels.shape) + str(test_labels.shape))\n",
    "print(train_data[0,:])"
   ]
  },
  {
   "cell_type": "markdown",
   "metadata": {},
   "source": [
    "Next, we define the new class for SVM using [`sklearn`'s Support Vector Machine classifers](https://scikit-learn.org/stable/modules/svm.html).\n",
    "By the implementation below, you can use either `SVC` or `NuSVC`:"
   ]
  },
  {
   "cell_type": "code",
   "execution_count": 3,
   "metadata": {},
   "outputs": [],
   "source": [
    "from shfl.model.model import TrainableModel\n",
    "import numpy as np\n",
    "from sklearn.svm import NuSVC\n",
    "from sklearn.svm import SVC\n",
    "from sklearn import metrics\n",
    "\n",
    "\n",
    "class SVMClassifierModel(TrainableModel):\n",
    "    \"\"\"\n",
    "    This class offers support for scikit-learn SVM non-linear classification. It implements [TrainableModel](../Model/#trainablemodel-class)\n",
    "\n",
    "    # Arguments:\n",
    "        n_features: integer number of features (independent variables).\n",
    "        classes: array of classes to predict. At least 2 classes must be provided.\n",
    "        model_inputs: optional dictionary containing the model input parameters\n",
    "        model: model to employ. Options are [NuSVC (default)](https://scikit-learn.org/stable/modules/generated/sklearn.svm.NuSVC.html)\n",
    "    \"\"\"\n",
    "    def __init__(self, n_features, classes, model_inputs=None, model=None):\n",
    "        if model is None:\n",
    "            model = SVC\n",
    "        if model_inputs is None:\n",
    "            model_inputs = {}\n",
    "        self._check_initialization(n_features, classes)\n",
    "        self._model = model(**model_inputs)\n",
    "        self._n_features = n_features\n",
    "        classes = np.sort(np.asarray(classes))\n",
    "        self._model.classes_ = classes\n",
    "        n_classes = len(classes)\n",
    "        params = np.column_stack((np.zeros((n_classes, n_features)), range(len(classes)) )) \n",
    "        self.set_model_params(params)\n",
    "        \n",
    "    def train(self, data, labels):\n",
    "        \"\"\"\n",
    "        Implementation of abstract method of class [TrainableModel](../Model/#trainablemodel-class)\n",
    "\n",
    "        # Arguments\n",
    "            data: Data, array-like of shape (n_samples, n_features)\n",
    "            labels: Target classes, array-like of shape (n_samples,) \n",
    "        \"\"\"\n",
    "        self._check_data(data)\n",
    "        self._check_labels_train(labels)\n",
    "        \n",
    "        self._model.fit(data, labels)\n",
    "\n",
    "    def predict(self, data):\n",
    "        \"\"\"\n",
    "        Implementation of abstract method of class [TrainableModel](../Model/#trainablemodel-class)\n",
    "\n",
    "        Arguments:\n",
    "            data: Data, array-like of shape (n_samples, n_features)\n",
    "        \"\"\"\n",
    "        prediction = self._model.predict(data)\n",
    "        \n",
    "        return prediction\n",
    "    \n",
    "    def evaluate(self, data, labels):\n",
    "        \"\"\"\n",
    "        Implementation of abstract method of class [TrainableModel](../Model/#trainablemodel-class)\n",
    "        Metrics for evaluating model's performance.\n",
    "        \n",
    "        Arguments:\n",
    "            data: Data, array-like of shape (n_samples, n_features)\n",
    "            labels: Target classes, array-like of shape (n_samples,) \n",
    "        \"\"\"\n",
    "        self._check_data(data)\n",
    "        self._check_labels_predict(labels)\n",
    "        \n",
    "        prediction = self.predict(data)\n",
    "        bas = metrics.balanced_accuracy_score(labels, prediction)\n",
    "        cks = metrics.cohen_kappa_score(labels, prediction)\n",
    "        \n",
    "        return bas, cks\n",
    "    \n",
    "    def performance(self, data, labels):\n",
    "        \"\"\"\n",
    "        Implementation of abstract method of class [TrainableModel](../Model/#trainablemodel-class)\n",
    "        \n",
    "        Arguments:\n",
    "            data: Data, array-like of shape (n_samples, n_features)\n",
    "            labels: Target classes, array-like of shape (n_samples,) \n",
    "        \"\"\"\n",
    "        self._check_data(data)\n",
    "        self._check_labels_predict(labels)\n",
    "        \n",
    "        prediction = self.predict(data)\n",
    "        bas = metrics.balanced_accuracy_score(labels, prediction)\n",
    "        \n",
    "        return bas\n",
    "\n",
    "    def get_model_params(self):\n",
    "        \"\"\"\n",
    "        Implementation of abstract method of class [TrainableModel](../Model/#trainablemodel-class)\n",
    "        \"\"\"\n",
    "        classes_index = [np.full(i_nSV, i_class) for (i_class, i_nSV) in \n",
    "                  zip(range(len(self._model.classes_)), self._model.n_support_)]\n",
    "        classes_index = np.hstack(classes_index)\n",
    "        params = np.column_stack((self._model.support_vectors_, classes_index))\n",
    "        params = params.astype(self._model.support_vectors_.dtype)\n",
    "        \n",
    "        return params\n",
    "\n",
    "    def set_model_params(self, params):\n",
    "        \"\"\"\n",
    "        Implementation of abstract method of class [TrainableModel](../Model/#trainablemodel-class)\n",
    "        \"\"\"\n",
    "        self._model.support_vectors_ = np.ascontiguousarray(params[:, 0:-1], dtype=params.dtype)\n",
    "        labels = params[:,-1]\n",
    "        n_support = [np.sum(labels == i_class) for i_class in range(len(self._model.classes_))]\n",
    "        self._model._n_support = np.asarray(n_support, dtype=np.int32)\n",
    "\n",
    "    def _check_data(self, data):\n",
    "        \"\"\"\n",
    "        Method that checks whether the data dimension is correct.\n",
    "        \"\"\"\n",
    "        data = np.asarray(data)\n",
    "        if data.ndim == 1:\n",
    "            if self._n_features != 1:\n",
    "                raise AssertionError(\"Data need to have the same number of features described by the model, \" + str(self._n_features)\n",
    "                                     + \". Current data have only 1 feature.\")\n",
    "        elif data.shape[1] != self._n_features:\n",
    "            raise AssertionError(\"Data need to have the same number of features described by the model, \" + str(self._n_features) +\n",
    "                                 \". Current data has \" + str(data.shape[1]) + \" features.\")\n",
    "\n",
    "    def _check_labels_train(self, labels):\n",
    "        \"\"\"\n",
    "        Method that checks whether the classes are correct. \n",
    "        When training, the classes in client's data must be the same as the input ones.\n",
    "        \n",
    "        # Arguments:\n",
    "            labels: array with classes\n",
    "        \"\"\"\n",
    "        classes = np.unique(np.asarray(labels))\n",
    "        if not np.array_equal(self._model.classes_, classes):\n",
    "            raise AssertionError(\"When training, labels need to have the same classes described by the model, \" + str(self._model.classes_)\n",
    "                                 + \". Labels of this node are \" + str(classes) + \" .\")\n",
    "            \n",
    "    def _check_labels_predict(self, labels):\n",
    "        \"\"\"\n",
    "        Method that checks whether the classes are correct. \n",
    "        When predicting, the classes in data must be a subset of the trained ones.\n",
    "        \n",
    "        # Arguments:\n",
    "            labels: array with classes\n",
    "        \"\"\"\n",
    "        classes = np.unique(np.asarray(labels))\n",
    "        if not set(classes) <= set(self._model.classes_):\n",
    "            raise AssertionError(\"When predicting, labels need to be a subset of the classes described by the model, \" + str(self._model.classes_)\n",
    "                                 + \". Labels in the given data are \" + str(classes) + \" .\")\n",
    "    @staticmethod\n",
    "    def _check_initialization(n_features, classes):\n",
    "        \"\"\"\n",
    "        Method that checks if model's initialization is correct. \n",
    "        The number of features must be an integer equal or greater to one, and there must be at least two classes.\n",
    "\n",
    "        # Arguments:\n",
    "            n_features: number of features\n",
    "            classes: array of classes to predict\n",
    "        \"\"\"\n",
    "        if not isinstance(n_features, int):\n",
    "            raise AssertionError(\"n_features must be a positive integer number. Provided \" + str(n_features) + \" features.\")\n",
    "        if n_features < 0:\n",
    "            raise AssertionError(\"It must verify that n_features > 0. Provided value \" + str(n_features) + \".\")\n",
    "        if len(classes) < 2:\n",
    "            raise AssertionError(\"It must verify that the number of classes > 1. Provided \" + str(len(classes)) + \" classes.\")\n",
    "        if len(np.unique(classes)) != len(classes):\n",
    "            classes = list(classes)\n",
    "            duplicated_classes = [i_class for i_class in classes if classes.count(i_class) > 1]\n",
    "            raise AssertionError(\"No duplicated classes allowed. Class(es) duplicated: \" + str(duplicated_classes) )\n",
    "\n"
   ]
  },
  {
   "cell_type": "code",
   "execution_count": 4,
   "metadata": {},
   "outputs": [],
   "source": [
    "import matplotlib.pyplot as plt\n",
    "\n",
    "\n",
    "def plot_2D_decision_boundary(model, data, labels, title=None):\n",
    "    # Step size of the mesh. Smaller it is, better the quality\n",
    "    h = .02 \n",
    "    # Color map\n",
    "    cmap = plt.cm.Set1\n",
    "    \n",
    "    # Plot the decision boundary. For that, we will assign a color to each\n",
    "    x_min, x_max = data[:, 0].min() - 1, data[:, 0].max() + 1\n",
    "    y_min, y_max = data[:, 1].min() - 1, data[:, 1].max() + 1\n",
    "    xx, yy = np.meshgrid(np.arange(x_min, x_max, h), np.arange(y_min, y_max, h))\n",
    "    \n",
    "    # Obtain labels for each point in mesh. Use last trained model.\n",
    "    Z = model.predict(np.c_[xx.ravel(), yy.ravel()])\n",
    "    \n",
    "    # Put the result into a color plot\n",
    "    Z = Z.reshape(xx.shape)\n",
    "    fig, ax = plt.subplots(figsize=(9,6))\n",
    "    plt.clf()\n",
    "    plt.imshow(Z, interpolation='nearest',\n",
    "               extent=(xx.min(), xx.max(), yy.min(), yy.max()),\n",
    "               cmap=cmap,\n",
    "               alpha=0.6,\n",
    "               aspect='auto', origin='lower')\n",
    "    # Plot data:\n",
    "    plt.scatter(data[:, 0], data[:, 1], c=labels, cmap=cmap, s=40, marker='o')\n",
    "    \n",
    "    plt.title(title)\n",
    "    plt.xlim(x_min, x_max)\n",
    "    plt.ylim(y_min, y_max)\n",
    "    ax.set_xlabel('x')\n",
    "    ax.set_ylabel('y')\n",
    "    plt.show()"
   ]
  },
  {
   "cell_type": "code",
   "execution_count": 5,
   "metadata": {},
   "outputs": [
    {
     "data": {
      "image/png": "[encoded data removed]",
      "text/plain": [
       "<Figure size 648x432 with 1 Axes>"
      ]
     },
     "metadata": {
      "needs_background": "light"
     },
     "output_type": "display_data"
    },
    {
     "name": "stdout",
     "output_type": "stream",
     "text": [
      "Test performance using centralized data: (0.511068539804172, 0.27458730527784236)\n"
     ]
    }
   ],
   "source": [
    "# Train global model using framework's class: \n",
    "classes = [i for i in range(0,n_classes)] \n",
    "model_centralized = SVMClassifierModel(n_features=n_features, classes=classes, model_inputs=kwargs)\n",
    "model_centralized.train(data=train_data, labels=train_labels)\n",
    "if n_features == 2:\n",
    "    plot_2D_decision_boundary(model_centralized, test_data, labels=test_labels, title = \"Benchmark: Classification using Centralized data\")\n",
    "print(\"Test performance using centralized data: \" + str(model_centralized.evaluate(test_data, test_labels)))"
   ]
  },
  {
   "cell_type": "markdown",
   "metadata": {},
   "source": [
    "## Aggregation problem\n",
    "`sklearn` provides three options for classification: `LinearSVC`, `SVC` and `NuSVC`. \n",
    "The linear version `LinearSVC` is easily incorporated in the platform, since the aggregation of the model is strightforward. \n",
    "Instead, for `SVC` and `NuSVC`, the output model's parameters are more complex, since they depend on the number of support vectors for each class. \n",
    "Thus, in principle, each client would deliver parameters with different dimensions, which are not straightforward to aggregate. \n",
    "\n",
    "Here, we use the clients' support vectors to *train a global model directly on the server*, obtaining the aggregated model: "
   ]
  },
  {
   "cell_type": "code",
   "execution_count": 6,
   "metadata": {},
   "outputs": [],
   "source": [
    "import numpy as np\n",
    "import inspect\n",
    "\n",
    "\n",
    "from shfl.federated_aggregator.federated_aggregator import FederatedAggregator\n",
    "\n",
    "class GlobalModelAggregator(FederatedAggregator):\n",
    "    \"\"\"\n",
    "    Trains the global model over the local parameters to aggregate them.\n",
    "\n",
    "    It implements [Federated Aggregator](../federated_aggregator/#federatedaggregator-class)\n",
    "    \"\"\"\n",
    "\n",
    "    def aggregate_weights(self, clients_params):\n",
    "        \"\"\"\n",
    "        Implementation of abstract method of class [AggregateWeightsFunction](../federated_aggregator/#federatedaggregator-class)\n",
    "        # Arguments:\n",
    "            clients_params: list of multi-dimensional (numeric) arrays. Each entry in the list contains the model's parameters of one client.\n",
    "\n",
    "        # Returns\n",
    "            aggregated_weights: aggregator weights representing the global learning model\n",
    "\n",
    "        # References\n",
    "            [Communication-Efficient Learning of Deep Networks from Decentralized Data](https://arxiv.org/abs/1602.05629)\n",
    "        \"\"\"\n",
    "        caller_object = inspect.currentframe().f_back.f_locals['self']\n",
    "        #print(type(caller_object.global_model).__name__)\n",
    "        clients_params_array = np.vstack(clients_params)\n",
    "        caller_object.global_model.train(clients_params_array[:, 0:-1], clients_params_array[:, -1])\n",
    "        aggregated_weights = caller_object.global_model.get_model_params()\n",
    "\n",
    "        return aggregated_weights"
   ]
  },
  {
   "cell_type": "markdown",
   "metadata": {},
   "source": [
    "Once defined the aggregator, we can run the federated model as usual.\n",
    "Note that the decision boundary can vary even by running the training on the same data (this is due to the internal shuffle of the data of the SVM solver). \n",
    "Thus, in order to compare the centralized and the federated models, it is more relevant to compare the scores on the test data:"
   ]
  },
  {
   "cell_type": "code",
   "execution_count": 7,
   "metadata": {},
   "outputs": [
    {
     "name": "stdout",
     "output_type": "stream",
     "text": [
      "Accuracy round 0\n",
      "Test performance client <shfl.private.federated_operation.FederatedDataNode object at 0x7faabe2e4a90>: (0.49270966368667524, 0.2361900431916345)\n",
      "Test performance client <shfl.private.federated_operation.FederatedDataNode object at 0x7faabe2e4dd8>: (0.4697211579395488, 0.20664206642066418)\n",
      "Test performance client <shfl.private.federated_operation.FederatedDataNode object at 0x7faabe30b630>: (0.4211898680289485, 0.1369606003752346)\n",
      "Test performance client <shfl.private.federated_operation.FederatedDataNode object at 0x7faabe30bd68>: (0.4493401447424436, 0.18925288710817811)\n",
      "Test performance client <shfl.private.federated_operation.FederatedDataNode object at 0x7faabe30b390>: (0.48552575564069816, 0.23972440009503437)\n",
      "Global model test performance : (0.511068539804172, 0.27458730527784236)\n",
      "\n",
      "\n",
      "\n"
     ]
    },
    {
     "data": {
      "image/png": "[encoded data removed]",
      "text/plain": [
       "<Figure size 648x432 with 1 Axes>"
      ]
     },
     "metadata": {
      "needs_background": "light"
     },
     "output_type": "display_data"
    },
    {
     "name": "stdout",
     "output_type": "stream",
     "text": [
      "Model used: SVC\n"
     ]
    }
   ],
   "source": [
    "#np.random.seed(132)     # Reproducibility\n",
    "iid_distribution = shfl.data_distribution.IidDataDistribution(database)\n",
    "federated_data, test_data, test_labels = iid_distribution.get_federated_data(num_nodes=5, percent=100)\n",
    "\n",
    "classes = [i for i in range(0,n_classes)] \n",
    "def model_builder():\n",
    "    model = SVMClassifierModel(n_features=n_features, classes=classes, model_inputs=kwargs)\n",
    "    return model\n",
    "\n",
    "aggregator = GlobalModelAggregator()\n",
    "\n",
    "federated_government = shfl.federated_government.FederatedGovernment(model_builder, federated_data, aggregator)\n",
    "federated_government.run_rounds(n=1, test_data=test_data, test_label=test_labels)\n",
    "\n",
    "if n_features == 2:\n",
    "    plot_2D_decision_boundary(federated_government.global_model, test_data, test_labels, title = \"Global model: Classification using Federated data\")\n",
    "\n",
    "print(\"Model used: \" + type(federated_government.global_model._model).__name__)"
   ]
  },
  {
   "cell_type": "markdown",
   "metadata": {},
   "source": [
    "## Adding Differential Privacy\n",
    "\n",
    "In instance-based machine learning methods such as SVM or KNN, part of the data (or the entire data, in the worst case) constitute the resulting model. \n",
    "These methods are thus particularly exposed to reconstruction attacks (e.g. see [Yang et al. 2019](https://www.morganclaypool.com/doi/pdf/10.2200/S00960ED2V01Y201910AIM043)). \n",
    "In order to protect private information, we can apply Differential Privacy on the resulting model output from the clients and observe its influence on the federated global model. \n",
    "\n",
    "### Sensitivity by sampling:\n",
    "We first estimate model's sensitivity by sampling.\n",
    "Recall that the matrices of support vectors are the actual models' parameters, and that they can have differying number of rows.\n",
    "We then need to define a distance between such matrices: we can choose the max of the distance of their rows (see [matrix distance](https://docs.scipy.org/doc/scipy/reference/generated/scipy.spatial.distance_matrix.html)).\n",
    "\n",
    "Note that, due to the internal data shuffle, the SVM solver can deliver slightly different support vectors even when training on very similar data (even when setting the random seed (see [`random_state` input parameter](https://scikit-learn.org/stable/modules/generated/sklearn.svm.SVC.html)). \n",
    "As a matter of fact, in the sensitivity sampling, we consider databases that differ at most in one entry, or contain exactly the same data, yet some of the support vectors turn out to be different.\n",
    "Thus, the resulting sensitivity is then particularly high, and the application of DP dramatically deteriorates the performance of the global model:"
   ]
  },
  {
   "cell_type": "code",
   "execution_count": 8,
   "metadata": {},
   "outputs": [],
   "source": [
    "from shfl.differential_privacy import SensitivitySampler\n",
    "from shfl.differential_privacy import L1SensitivityNorm\n",
    "from shfl.differential_privacy import SensitivityNorm\n",
    "from scipy.spatial import distance_matrix\n",
    " \n",
    "class UniformDistribution(shfl.differential_privacy.ProbabilityDistribution):\n",
    "    \"\"\"\n",
    "    Implement Uniform sampling over the data\n",
    "    \"\"\"\n",
    "    def __init__(self, sample_data):\n",
    "        self._sample_data = sample_data\n",
    "\n",
    "    def sample(self, sample_size):\n",
    "        row_indices = np.random.choice(a=self._sample_data.shape[0], size=sample_size, replace=False)\n",
    "        \n",
    "        return self._sample_data[row_indices, :]\n",
    "    \n",
    "    \n",
    "class SVMClassifierSample(SVMClassifierModel):\n",
    "    \n",
    "    def get(self, data_array):\n",
    "        data = data_array[:, 0:-1]\n",
    "        labels = data_array[:, -1]\n",
    "        train_model = self.train(data, labels)\n",
    "        model_params = self.get_model_params()\n",
    "        model_params = model_params[:,0:-1] # Exclude the classes indices\n",
    "        \n",
    "        return model_params.copy()\n",
    "\n",
    "\n",
    "class MatrixSetXoRNorm(SensitivityNorm):\n",
    "    \"\"\"\n",
    "    Implements L1 norm only using rows not in common.\n",
    "    \"\"\"\n",
    "    def compute(self, x_1, x_2):\n",
    "        nrows, ncols = x_1.shape\n",
    "        dtype = {'names':['f{}'.format(i) for i in range(ncols)],\n",
    "                   'formats':ncols * [x_1.dtype]}\n",
    "        x = np.setxor1d(x_1.view(dtype), x_2.view(dtype))\n",
    "        x = x.view(x_1.dtype).reshape(-1, ncols)\n",
    "        if x.shape[0] is not 0:\n",
    "            x = distance_matrix(x,x)\n",
    "            x = x.max()\n",
    "        else:\n",
    "            x = 0\n",
    "\n",
    "        return x"
   ]
  },
  {
   "cell_type": "code",
   "execution_count": 9,
   "metadata": {},
   "outputs": [
    {
     "name": "stdout",
     "output_type": "stream",
     "text": [
      "Max sensitivity from sampling: 3.9537433519275904\n",
      "Mean sensitivity from sampling: 1.0378818386180253\n"
     ]
    }
   ],
   "source": [
    "# Create sampling database:\n",
    "n_instances = 400\n",
    "sampling_data, sampling_labels = make_classification(\n",
    "    n_samples=n_instances, n_features=n_features, n_informative=2, \n",
    "    n_redundant=0, n_repeated=0, n_classes=n_classes, \n",
    "    n_clusters_per_class=1, weights=None, flip_y=0.1, class_sep=0.1)  \n",
    "sample_data = np.hstack((sampling_data, sampling_labels.reshape(-1,1)))\n",
    "\n",
    "# Sampling sensitivity:\n",
    "distribution = UniformDistribution(sample_data)\n",
    "sampler = SensitivitySampler()\n",
    "\n",
    "n_samples = 200 # must be <= n_instances\n",
    "kwargs['random_state'] = 123\n",
    "kwargs['C'] = 1\n",
    "max_sensitivity, mean_sensitivity = sampler.sample_sensitivity(\n",
    "    SVMClassifierSample(n_features=n_features, classes=classes, model_inputs=kwargs), \n",
    "    MatrixSetXoRNorm(), distribution, n=n_samples, m=100)\n",
    "\n",
    "print(\"Max sensitivity from sampling: \" + str(max_sensitivity))\n",
    "print(\"Mean sensitivity from sampling: \" + str(mean_sensitivity))"
   ]
  },
  {
   "cell_type": "code",
   "execution_count": 10,
   "metadata": {},
   "outputs": [
    {
     "name": "stdout",
     "output_type": "stream",
     "text": [
      "Accuracy round 0\n",
      "Test performance client <shfl.private.federated_operation.FederatedDataNode object at 0x7faabe2e4a90>: (0.49270966368667524, 0.2361900431916345)\n",
      "Test performance client <shfl.private.federated_operation.FederatedDataNode object at 0x7faabe2e4dd8>: (0.4697211579395488, 0.20664206642066418)\n",
      "Test performance client <shfl.private.federated_operation.FederatedDataNode object at 0x7faabe30b630>: (0.4211898680289485, 0.1369606003752346)\n",
      "Test performance client <shfl.private.federated_operation.FederatedDataNode object at 0x7faabe30bd68>: (0.4493401447424436, 0.18925288710817811)\n",
      "Test performance client <shfl.private.federated_operation.FederatedDataNode object at 0x7faabe30b390>: (0.48552575564069816, 0.23972440009503437)\n",
      "Global model test performance : (0.31704980842911873, -0.02288021534320328)\n",
      "\n",
      "\n",
      "\n"
     ]
    },
    {
     "data": {
      "image/png": "[encoded data removed]",
      "text/plain": [
       "<Figure size 648x432 with 1 Axes>"
      ]
     },
     "metadata": {
      "needs_background": "light"
     },
     "output_type": "display_data"
    },
    {
     "name": "stdout",
     "output_type": "stream",
     "text": [
      "Model used: SVC\n"
     ]
    }
   ],
   "source": [
    "from shfl.differential_privacy import LaplaceMechanism\n",
    "\n",
    "sensitivity_array = np.full((n_features+1,), max_sensitivity)\n",
    "sensitivity_array[-1] = 0  # We don't apply noise on the classes\n",
    "params_access_definition = LaplaceMechanism(sensitivity=sensitivity_array, epsilon=1)\n",
    "federated_governmentDP = shfl.federated_government.FederatedGovernment(\n",
    "    model_builder, federated_data, aggregator, model_params_access=params_access_definition)\n",
    "\n",
    "federated_governmentDP.run_rounds(n=1, test_data=test_data, test_label=test_labels)\n",
    "if n_features == 2:\n",
    "    plot_2D_decision_boundary(federated_governmentDP.global_model, test_data, test_labels, title = \"Global model: Classification using Federated data\")\n",
    "\n",
    "print(\"Model used: \" + type(federated_governmentDP.global_model._model).__name__)"
   ]
  },
  {
   "cell_type": "markdown",
   "metadata": {},
   "source": [
    "### Sensitivity associated to the data: \n",
    "Since the SVM's parameters are constituted by the data itself, we might assume that the model's sensitivity is actually the sensitivity to apply on the data itself if one would try to access it (see [Laplace mechanism notebook](../differential_privacy/differential_privacy_laplace.ipynb)). \n",
    "We then take the component-wise variance of the data as the sensitvity. \n",
    "The resulting $\\epsilon$-private global model's performance is then comparable to the non-private version:"
   ]
  },
  {
   "cell_type": "code",
   "execution_count": 11,
   "metadata": {},
   "outputs": [
    {
     "name": "stdout",
     "output_type": "stream",
     "text": [
      "Component-wise sensitivity: [0.41424281 0.53702762 0.        ]\n",
      "Accuracy round 0\n",
      "Test performance client <shfl.private.federated_operation.FederatedDataNode object at 0x7faabe2e4a90>: (0.49270966368667524, 0.2361900431916345)\n",
      "Test performance client <shfl.private.federated_operation.FederatedDataNode object at 0x7faabe2e4dd8>: (0.4697211579395488, 0.20664206642066418)\n",
      "Test performance client <shfl.private.federated_operation.FederatedDataNode object at 0x7faabe30b630>: (0.4211898680289485, 0.1369606003752346)\n",
      "Test performance client <shfl.private.federated_operation.FederatedDataNode object at 0x7faabe30bd68>: (0.4493401447424436, 0.18925288710817811)\n",
      "Test performance client <shfl.private.federated_operation.FederatedDataNode object at 0x7faabe30b390>: (0.48552575564069816, 0.23972440009503437)\n",
      "Global model test performance : (0.4311409110259685, 0.15828851999064764)\n",
      "\n",
      "\n",
      "\n"
     ]
    },
    {
     "data": {
      "image/png": "[encoded data removed]",
      "text/plain": [
       "<Figure size 648x432 with 1 Axes>"
      ]
     },
     "metadata": {
      "needs_background": "light"
     },
     "output_type": "display_data"
    },
    {
     "name": "stdout",
     "output_type": "stream",
     "text": [
      "Model used: SVC\n"
     ]
    }
   ],
   "source": [
    "from shfl.differential_privacy import LaplaceMechanism\n",
    "\n",
    "sensitivity_array = np.var(sample_data, axis=0)\n",
    "sensitivity_array[-1] = 0  # We don't apply noise on the classes\n",
    "print(\"Component-wise sensitivity: \" + str(sensitivity_array))\n",
    "\n",
    "params_access_definition = LaplaceMechanism(sensitivity=sensitivity_array, epsilon=1)\n",
    "federated_governmentDP = shfl.federated_government.FederatedGovernment(\n",
    "    model_builder, federated_data, aggregator, model_params_access=params_access_definition)\n",
    "\n",
    "federated_governmentDP.run_rounds(n=1, test_data=test_data, test_label=test_labels)\n",
    "if n_features == 2:\n",
    "    plot_2D_decision_boundary(federated_governmentDP.global_model, test_data, test_labels, title = \"Global model: Classification using Federated data\")\n",
    "\n",
    "print(\"Model used: \" + type(federated_governmentDP.global_model._model).__name__)"
   ]
  },
  {
   "cell_type": "markdown",
   "metadata": {},
   "source": [
    "## Open issues\n",
    "\n",
    "Is the prsented aggregation procedure feasibile? And for the application of DP, the sensitivity computation is still very dependent on the training data: can we think of a more reliable approach? "
   ]
  }
 ],
 "metadata": {
  "kernelspec": {
   "display_name": "SherpaFL_py35",
   "language": "python",
   "name": "sherpafl_py35"
  },
  "language_info": {
   "codemirror_mode": {
    "name": "ipython",
    "version": 3
   },
   "file_extension": ".py",
   "mimetype": "text/x-python",
   "name": "python",
   "nbconvert_exporter": "python",
   "pygments_lexer": "ipython3",
   "version": "3.5.3"
  }
 },
 "nbformat": 4,
 "nbformat_minor": 4
}
